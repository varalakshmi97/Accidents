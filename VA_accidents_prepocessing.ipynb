{
 "cells": [
  {
   "cell_type": "code",
   "execution_count": 69,
   "metadata": {},
   "outputs": [],
   "source": [
    "import pandas as pd\n",
    "import numpy as np\n",
    "import matplotlib.pyplot as plt\n",
    "import seaborn as sns"
   ]
  },
  {
   "cell_type": "code",
   "execution_count": 70,
   "metadata": {},
   "outputs": [],
   "source": [
    "VA_accidents = pd.read_csv('VA_accidents.csv')"
   ]
  },
  {
   "cell_type": "code",
   "execution_count": 71,
   "metadata": {},
   "outputs": [
    {
     "data": {
      "text/plain": [
       "Index(['Unnamed: 0', 'ID', 'Source', 'TMC', 'Severity', 'Start_Time',\n",
       "       'End_Time', 'Start_Lat', 'Start_Lng', 'End_Lat', 'End_Lng',\n",
       "       'Distance(mi)', 'Description', 'Number', 'Street', 'Side', 'City',\n",
       "       'County', 'State', 'Zipcode', 'Country', 'Timezone', 'Airport_Code',\n",
       "       'Weather_Timestamp', 'Temperature(F)', 'Wind_Chill(F)', 'Humidity(%)',\n",
       "       'Pressure(in)', 'Visibility(mi)', 'Wind_Direction', 'Wind_Speed(mph)',\n",
       "       'Precipitation(in)', 'Weather_Condition', 'Amenity', 'Bump', 'Crossing',\n",
       "       'Give_Way', 'Junction', 'No_Exit', 'Railway', 'Roundabout', 'Station',\n",
       "       'Stop', 'Traffic_Calming', 'Traffic_Signal', 'Turning_Loop',\n",
       "       'Sunrise_Sunset', 'Civil_Twilight', 'Nautical_Twilight',\n",
       "       'Astronomical_Twilight'],\n",
       "      dtype='object')"
      ]
     },
     "execution_count": 71,
     "metadata": {},
     "output_type": "execute_result"
    }
   ],
   "source": [
    "# Attribute information of VA_accident data set\n",
    "VA_accidents.columns\n"
   ]
  },
  {
   "cell_type": "code",
   "execution_count": 72,
   "metadata": {},
   "outputs": [
    {
     "name": "stdout",
     "output_type": "stream",
     "text": [
      "<class 'pandas.core.frame.DataFrame'>\n",
      "RangeIndex: 61426 entries, 0 to 61425\n",
      "Data columns (total 50 columns):\n",
      "Unnamed: 0               61426 non-null int64\n",
      "ID                       61426 non-null object\n",
      "Source                   61426 non-null object\n",
      "TMC                      47298 non-null float64\n",
      "Severity                 61426 non-null int64\n",
      "Start_Time               61426 non-null object\n",
      "End_Time                 61426 non-null object\n",
      "Start_Lat                61426 non-null float64\n",
      "Start_Lng                61426 non-null float64\n",
      "End_Lat                  14128 non-null float64\n",
      "End_Lng                  14128 non-null float64\n",
      "Distance(mi)             61426 non-null float64\n",
      "Description              61426 non-null object\n",
      "Number                   19759 non-null float64\n",
      "Street                   61426 non-null object\n",
      "Side                     61426 non-null object\n",
      "City                     61426 non-null object\n",
      "County                   61426 non-null object\n",
      "State                    61426 non-null object\n",
      "Zipcode                  61423 non-null object\n",
      "Country                  61426 non-null object\n",
      "Timezone                 61423 non-null object\n",
      "Airport_Code             59587 non-null object\n",
      "Weather_Timestamp        57583 non-null object\n",
      "Temperature(F)           57279 non-null float64\n",
      "Wind_Chill(F)            12934 non-null float64\n",
      "Humidity(%)              57216 non-null float64\n",
      "Pressure(in)             57480 non-null float64\n",
      "Visibility(mi)           57379 non-null float64\n",
      "Wind_Direction           57583 non-null object\n",
      "Wind_Speed(mph)          45010 non-null float64\n",
      "Precipitation(in)        7369 non-null float64\n",
      "Weather_Condition        57308 non-null object\n",
      "Amenity                  61426 non-null bool\n",
      "Bump                     61426 non-null bool\n",
      "Crossing                 61426 non-null bool\n",
      "Give_Way                 61426 non-null bool\n",
      "Junction                 61426 non-null bool\n",
      "No_Exit                  61426 non-null bool\n",
      "Railway                  61426 non-null bool\n",
      "Roundabout               61426 non-null bool\n",
      "Station                  61426 non-null bool\n",
      "Stop                     61426 non-null bool\n",
      "Traffic_Calming          61426 non-null bool\n",
      "Traffic_Signal           61426 non-null bool\n",
      "Turning_Loop             61426 non-null bool\n",
      "Sunrise_Sunset           61426 non-null object\n",
      "Civil_Twilight           61426 non-null object\n",
      "Nautical_Twilight        61426 non-null object\n",
      "Astronomical_Twilight    61426 non-null object\n",
      "dtypes: bool(13), float64(14), int64(2), object(21)\n",
      "memory usage: 18.1+ MB\n"
     ]
    }
   ],
   "source": [
    "# From this we can analyze dataset for performing preprocessing \n",
    "VA_accidents.info()"
   ]
  },
  {
   "cell_type": "code",
   "execution_count": 73,
   "metadata": {},
   "outputs": [],
   "source": [
    "# Since End_Lat, End_long,Wind_chill(F),Precipitation(in) have more number of missing values it is difficult to replace them \n",
    "# So, it is better to drop those columns\n",
    "VA_accidents = VA_accidents.drop(columns=['End_Lat','End_Lng','Wind_Chill(F)','Precipitation(in)','Number'])"
   ]
  },
  {
   "cell_type": "code",
   "execution_count": 74,
   "metadata": {},
   "outputs": [],
   "source": [
    "# ID represents Unique identity of the accident, So we cannot use it in the analysis\n",
    "VA_accidents = VA_accidents.drop(columns = ['ID'])"
   ]
  },
  {
   "cell_type": "code",
   "execution_count": 75,
   "metadata": {},
   "outputs": [],
   "source": [
    "# Country and state values are same for all the records(US and VA), so these columns can be removed\n",
    "VA_accidents = VA_accidents.drop(columns = ['State','Country'])"
   ]
  },
  {
   "cell_type": "code",
   "execution_count": 76,
   "metadata": {},
   "outputs": [],
   "source": [
    "VA_accidents = VA_accidents.drop(columns = ['Unnamed: 0'])"
   ]
  },
  {
   "cell_type": "code",
   "execution_count": 77,
   "metadata": {},
   "outputs": [],
   "source": [
    "# TMC represents Traffic Message Channel, this attribute doesn't make any sense in analysis\n",
    "VA_accidents = VA_accidents.drop(columns = ['TMC'])"
   ]
  },
  {
   "cell_type": "code",
   "execution_count": 78,
   "metadata": {},
   "outputs": [],
   "source": [
    "#Rename columns\n",
    "VA_accidents=VA_accidents.rename(columns={'Distance(mi)':'Distance','Temperature(F)':'Temperature','Humidity(%)':'Humidity',\n",
    "                            'Pressure(in)':'Pressure','Visibility(mi)':'Visibility','Wind_Speed(mph)':'Wind_Speed'})"
   ]
  },
  {
   "cell_type": "code",
   "execution_count": 79,
   "metadata": {},
   "outputs": [
    {
     "name": "stdout",
     "output_type": "stream",
     "text": [
      "28979 Source                                                            MapQuest\n",
      "Severity                                                                 2\n",
      "Start_Time                                             2018-05-12 09:58:24\n",
      "End_Time                                               2018-05-12 10:27:41\n",
      "Start_Lat                                                          37.0303\n",
      "Start_Lng                                                          -76.085\n",
      "Distance                                                                 0\n",
      "Description              Left lane blocked due to accident on US-50 Eas...\n",
      "Street                                                             US-13 N\n",
      "Side                                                                     R\n",
      "City                                                            District 1\n",
      "County                                                         Northampton\n",
      "Zipcode                                                                NaN\n",
      "Timezone                                                               NaN\n",
      "Airport_Code                                                           NaN\n",
      "Weather_Timestamp                                                      NaN\n",
      "Temperature                                                            NaN\n",
      "Humidity                                                               NaN\n",
      "Pressure                                                               NaN\n",
      "Visibility                                                             NaN\n",
      "Wind_Direction                                                         NaN\n",
      "Wind_Speed                                                             NaN\n",
      "Weather_Condition                                                      NaN\n",
      "Amenity                                                              False\n",
      "Bump                                                                 False\n",
      "Crossing                                                             False\n",
      "Give_Way                                                             False\n",
      "Junction                                                             False\n",
      "No_Exit                                                              False\n",
      "Railway                                                              False\n",
      "Roundabout                                                           False\n",
      "Station                                                              False\n",
      "Stop                                                                 False\n",
      "Traffic_Calming                                                      False\n",
      "Traffic_Signal                                                       False\n",
      "Turning_Loop                                                         False\n",
      "Sunrise_Sunset                                                         Day\n",
      "Civil_Twilight                                                         Day\n",
      "Nautical_Twilight                                                      Day\n",
      "Astronomical_Twilight                                                  Day\n",
      "Name: 28979, dtype: object\n",
      "47882 Source                                                                Bing\n",
      "Severity                                                                 4\n",
      "Start_Time                                             2017-01-08 13:34:14\n",
      "End_Time                                               2017-01-08 19:34:14\n",
      "Start_Lat                                                          37.0455\n",
      "Start_Lng                                                         -76.0635\n",
      "Distance                                                             1.206\n",
      "Description              Closed at Virginia Bch/Northampton Cnty Line -...\n",
      "Street                                                             US-13 N\n",
      "Side                                                                     R\n",
      "City                                                            District 1\n",
      "County                                                         Northampton\n",
      "Zipcode                                                                NaN\n",
      "Timezone                                                               NaN\n",
      "Airport_Code                                                           NaN\n",
      "Weather_Timestamp                                                      NaN\n",
      "Temperature                                                            NaN\n",
      "Humidity                                                               NaN\n",
      "Pressure                                                               NaN\n",
      "Visibility                                                             NaN\n",
      "Wind_Direction                                                         NaN\n",
      "Wind_Speed                                                             NaN\n",
      "Weather_Condition                                                      NaN\n",
      "Amenity                                                              False\n",
      "Bump                                                                 False\n",
      "Crossing                                                             False\n",
      "Give_Way                                                             False\n",
      "Junction                                                             False\n",
      "No_Exit                                                              False\n",
      "Railway                                                              False\n",
      "Roundabout                                                           False\n",
      "Station                                                              False\n",
      "Stop                                                                 False\n",
      "Traffic_Calming                                                      False\n",
      "Traffic_Signal                                                       False\n",
      "Turning_Loop                                                         False\n",
      "Sunrise_Sunset                                                         Day\n",
      "Civil_Twilight                                                         Day\n",
      "Nautical_Twilight                                                      Day\n",
      "Astronomical_Twilight                                                  Day\n",
      "Name: 47882, dtype: object\n",
      "50135 Source                                                                Bing\n",
      "Severity                                                                 4\n",
      "Start_Time                                             2016-07-14 16:47:10\n",
      "End_Time                                               2016-07-14 22:47:10\n",
      "Start_Lat                                                          37.9377\n",
      "Start_Lng                                                         -75.3814\n",
      "Distance                                                             3.956\n",
      "Description              Closed approaching Charles M Lankford Jr Memor...\n",
      "Street                                                     Chincoteague Rd\n",
      "Side                                                                     R\n",
      "City                                                            District 1\n",
      "County                                                            Accomack\n",
      "Zipcode                                                                NaN\n",
      "Timezone                                                               NaN\n",
      "Airport_Code                                                           NaN\n",
      "Weather_Timestamp                                                      NaN\n",
      "Temperature                                                            NaN\n",
      "Humidity                                                               NaN\n",
      "Pressure                                                               NaN\n",
      "Visibility                                                             NaN\n",
      "Wind_Direction                                                         NaN\n",
      "Wind_Speed                                                             NaN\n",
      "Weather_Condition                                                      NaN\n",
      "Amenity                                                              False\n",
      "Bump                                                                 False\n",
      "Crossing                                                             False\n",
      "Give_Way                                                             False\n",
      "Junction                                                             False\n",
      "No_Exit                                                              False\n",
      "Railway                                                              False\n",
      "Roundabout                                                           False\n",
      "Station                                                              False\n",
      "Stop                                                                 False\n",
      "Traffic_Calming                                                      False\n",
      "Traffic_Signal                                                       False\n",
      "Turning_Loop                                                         False\n",
      "Sunrise_Sunset                                                         Day\n",
      "Civil_Twilight                                                         Day\n",
      "Nautical_Twilight                                                      Day\n",
      "Astronomical_Twilight                                                  Day\n",
      "Name: 50135, dtype: object\n"
     ]
    }
   ],
   "source": [
    "# Zip code attribute has just three missing values\n",
    "for index,row in VA_accidents.iterrows():\n",
    "    if (pd.isnull(row['Zipcode'])):\n",
    "        print(index,row)"
   ]
  },
  {
   "cell_type": "code",
   "execution_count": 80,
   "metadata": {},
   "outputs": [],
   "source": [
    "# For the rows that contain Zipcode also has null value to many attributes, so dropping those 3 attributes is better solution\n",
    "VA_accidents = VA_accidents.dropna(subset = ['Zipcode'])"
   ]
  },
  {
   "cell_type": "code",
   "execution_count": 81,
   "metadata": {},
   "outputs": [
    {
     "name": "stdout",
     "output_type": "stream",
     "text": [
      "3840\n"
     ]
    }
   ],
   "source": [
    "cnt = 0\n",
    "for index,row in VA_accidents.iterrows():\n",
    "    if (pd.isnull(row['Weather_Timestamp'])):\n",
    "        cnt = cnt+1\n",
    "print(cnt)\n",
    "# HAs all the attributes of Temperature, Pressure, Visibility,Wind_Direction,Wind_Speed,Humidity as null"
   ]
  },
  {
   "cell_type": "code",
   "execution_count": 82,
   "metadata": {},
   "outputs": [],
   "source": [
    "# From the above result we can see that 3840 records have Temperature,Pressure,Visibility, Wind_Direction,Wind_Speed and Humidity \n",
    "#values NUll in total\n",
    "VA_accidents = VA_accidents.dropna(subset = ['Temperature'])"
   ]
  },
  {
   "cell_type": "code",
   "execution_count": 83,
   "metadata": {},
   "outputs": [
    {
     "data": {
      "text/plain": [
       "<matplotlib.axes._subplots.AxesSubplot at 0x264cf424860>"
      ]
     },
     "execution_count": 83,
     "metadata": {},
     "output_type": "execute_result"
    },
    {
     "data": {
      "image/png": "[encoded data removed]",
      "text/plain": [
       "<Figure size 432x288 with 1 Axes>"
      ]
     },
     "metadata": {
      "needs_background": "light"
     },
     "output_type": "display_data"
    }
   ],
   "source": [
    "## histogram for pressure\n",
    "VA_accidents['Pressure'].hist()"
   ]
  },
  {
   "cell_type": "code",
   "execution_count": 84,
   "metadata": {},
   "outputs": [
    {
     "name": "stdout",
     "output_type": "stream",
     "text": [
      "mean 30.08670645392417\n",
      "median 30.08\n",
      "mode 0    30.06\n",
      "dtype: float64\n"
     ]
    }
   ],
   "source": [
    "# From the graph we can see almost all the data is concentrated near 30 inches\n",
    "mean = VA_accidents['Pressure'].mean()\n",
    "median = VA_accidents['Pressure'].median()\n",
    "mode = VA_accidents['Pressure'].mode()\n",
    "print('mean', mean)\n",
    "print('median',median)\n",
    "print('mode',mode)"
   ]
  },
  {
   "cell_type": "code",
   "execution_count": 85,
   "metadata": {},
   "outputs": [
    {
     "data": {
      "text/plain": [
       "<matplotlib.axes._subplots.AxesSubplot at 0x264cc6baba8>"
      ]
     },
     "execution_count": 85,
     "metadata": {},
     "output_type": "execute_result"
    },
    {
     "data": {
      "image/png": "[encoded data removed]",
      "text/plain": [
       "<Figure size 432x288 with 1 Axes>"
      ]
     },
     "metadata": {
      "needs_background": "light"
     },
     "output_type": "display_data"
    }
   ],
   "source": [
    "# Identifying outliers in Pressure attribute\n",
    "sns.boxplot(VA_accidents['Pressure'])"
   ]
  },
  {
   "cell_type": "code",
   "execution_count": 86,
   "metadata": {},
   "outputs": [],
   "source": [
    "# Replacing Missing values in pressure with mode\n",
    "mode_Pressure = VA_accidents['Pressure'].mode()\n",
    "for index,row in VA_accidents.iterrows():\n",
    "    if(np.isnan(row['Pressure'])):\n",
    "        VA_accidents.at[index,'Pressure'] = mode_Pressure"
   ]
  },
  {
   "cell_type": "code",
   "execution_count": 87,
   "metadata": {},
   "outputs": [],
   "source": [
    "# Replacing outliers in Pressure attribute with mode\n",
    "mode_Pressure = VA_accidents['Pressure'].mode()\n",
    "# From the box plot we see that there is an outlier, Here we replaced it with median of data \n",
    "Q1 = np.nanpercentile(VA_accidents['Pressure'],25)\n",
    "Q3 = np.nanpercentile(VA_accidents['Pressure'],75)\n",
    "IQR = Q3 - Q1\n",
    "for index,row in VA_accidents.iterrows():\n",
    "    if((row['Pressure'] < Q1 - 1.5*(IQR)) | (row['Pressure'] > Q3 + 1.5*(IQR))):\n",
    "        VA_accidents.at[index,'Pressure'] = mode_Pressure\n",
    "   "
   ]
  },
  {
   "cell_type": "code",
   "execution_count": 88,
   "metadata": {},
   "outputs": [
    {
     "data": {
      "text/plain": [
       "<matplotlib.axes._subplots.AxesSubplot at 0x264ca680438>"
      ]
     },
     "execution_count": 88,
     "metadata": {},
     "output_type": "execute_result"
    },
    {
     "data": {
      "image/png": "[encoded data removed]",
      "text/plain": [
       "<Figure size 432x288 with 1 Axes>"
      ]
     },
     "metadata": {
      "needs_background": "light"
     },
     "output_type": "display_data"
    }
   ],
   "source": [
    "# Understanding the spread of data in Humidity\n",
    "VA_accidents['Humidity'].hist()"
   ]
  },
  {
   "cell_type": "code",
   "execution_count": 89,
   "metadata": {},
   "outputs": [],
   "source": [
    "# Replacing Missing values in Humidity with median\n",
    "median_humidity = VA_accidents['Humidity'].median()\n",
    "VA_accidents['Humidity'].fillna(median_humidity,inplace=True)"
   ]
  },
  {
   "cell_type": "code",
   "execution_count": 90,
   "metadata": {},
   "outputs": [],
   "source": [
    "# Replacing NA values in Weather_Condition with missing values\n",
    "VA_accidents['Weather_Condition'].fillna(\"missing\",inplace=True)"
   ]
  },
  {
   "cell_type": "code",
   "execution_count": 91,
   "metadata": {},
   "outputs": [],
   "source": [
    "# Replacing missing values in Visibility, with the mean value grouped from each type\n",
    "list = VA_accidents['Visibility'].groupby(VA_accidents['Weather_Condition']).mean()\n",
    "for index,row in VA_accidents.iterrows():\n",
    "    if(np.isnan(row['Visibility'])):\n",
    "        VA_accidents.at[index,'Visibility'] = list[row['Weather_Condition']]"
   ]
  },
  {
   "cell_type": "code",
   "execution_count": 92,
   "metadata": {},
   "outputs": [
    {
     "data": {
      "text/plain": [
       "array(['Overcast', 'Light Drizzle', 'Partly Cloudy', 'Light Rain', 'Rain',\n",
       "       'Heavy Rain', 'Clear', 'Mostly Cloudy', 'Scattered Clouds',\n",
       "       'Light Ice Pellets', 'Heavy Drizzle', 'Light Freezing Rain',\n",
       "       'missing', 'Fog', 'Light Snow', 'Haze', 'Drizzle', 'Squalls',\n",
       "       'Light Fog', 'Light Thunderstorms and Rain',\n",
       "       'Thunderstorms and Rain', 'Patches of Fog', 'Shallow Fog',\n",
       "       'Thunderstorm', 'Heavy Thunderstorms and Rain',\n",
       "       'Light Freezing Fog', 'Ice Pellets', 'Mist', 'Snow', 'Heavy Snow',\n",
       "       'Light Freezing Drizzle', 'Blowing Snow'], dtype=object)"
      ]
     },
     "execution_count": 92,
     "metadata": {},
     "output_type": "execute_result"
    }
   ],
   "source": [
    "VA_accidents['Weather_Condition'].unique()"
   ]
  },
  {
   "cell_type": "code",
   "execution_count": 93,
   "metadata": {},
   "outputs": [],
   "source": [
    "# Replacing missing values in Wind_Speed\n",
    "#There is only one record  with Light Fog value, So replaced it with Fog Type weather_condition for replacing its Wind_speed \n",
    "#missing value \n",
    "list1 = VA_accidents['Wind_Speed'].groupby(VA_accidents['Weather_Condition']).mean()\n",
    "for index,row in VA_accidents.iterrows():\n",
    "    if(np.isnan(row['Wind_Speed'])):\n",
    "        VA_accidents.at[index,'Wind_Speed'] = list1[row['Weather_Condition']]"
   ]
  },
  {
   "cell_type": "code",
   "execution_count": 94,
   "metadata": {},
   "outputs": [],
   "source": [
    "for index,row in VA_accidents.iterrows():\n",
    "    if(np.isnan(row['Wind_Speed'])):\n",
    "        VA_accidents.at[index,'Wind_Speed']= 5.17"
   ]
  },
  {
   "cell_type": "code",
   "execution_count": 95,
   "metadata": {},
   "outputs": [
    {
     "data": {
      "text/plain": [
       "Weather_Condition\n",
       "Blowing Snow                    16.840000\n",
       "Clear                            7.748444\n",
       "Drizzle                          6.495522\n",
       "Fog                              5.171910\n",
       "Haze                             6.862162\n",
       "Heavy Drizzle                    8.850000\n",
       "Heavy Rain                       8.969029\n",
       "Heavy Snow                       9.314286\n",
       "Heavy Thunderstorms and Rain    10.271212\n",
       "Ice Pellets                     19.575000\n",
       "Light Drizzle                    7.300346\n",
       "Light Fog                        5.170000\n",
       "Light Freezing Drizzle           7.812500\n",
       "Light Freezing Fog               9.963636\n",
       "Light Freezing Rain              6.788372\n",
       "Light Ice Pellets               14.630000\n",
       "Light Rain                       8.895008\n",
       "Light Snow                       9.223673\n",
       "Light Thunderstorms and Rain     8.664474\n",
       "Mist                             6.841667\n",
       "Mostly Cloudy                    8.884052\n",
       "Overcast                         8.089789\n",
       "Partly Cloudy                    8.897007\n",
       "Patches of Fog                   6.100000\n",
       "Rain                             8.714742\n",
       "Scattered Clouds                 8.878362\n",
       "Shallow Fog                      3.500000\n",
       "Snow                             8.281250\n",
       "Squalls                         19.600000\n",
       "Thunderstorm                     8.329348\n",
       "Thunderstorms and Rain           8.989655\n",
       "missing                          8.915646\n",
       "Name: Wind_Speed, dtype: float64"
      ]
     },
     "execution_count": 95,
     "metadata": {},
     "output_type": "execute_result"
    }
   ],
   "source": [
    "VA_accidents.groupby('Weather_Condition')['Wind_Speed'].mean()"
   ]
  },
  {
   "cell_type": "code",
   "execution_count": 96,
   "metadata": {},
   "outputs": [],
   "source": [
    "#Zipcode formatting\n",
    "for index,row in VA_accidents.iterrows():\n",
    "    if('-' in row['Zipcode']):\n",
    "        VA_accidents.at[index,'Zipcode'] = (row['Zipcode'].split('-'))[0]"
   ]
  },
  {
   "cell_type": "code",
   "execution_count": 97,
   "metadata": {},
   "outputs": [],
   "source": [
    "VA_accidents['Month'] = 0\n",
    "VA_accidents['Year'] = 0\n",
    "# Extracting Month, year from data\n",
    "for index,row in VA_accidents.iterrows():\n",
    "    list = row['Weather_Timestamp'].split('-')\n",
    "    VA_accidents.at[index,'Month'] = list[1]\n",
    "    VA_accidents.at[index,'Year'] = list[0]"
   ]
  },
  {
   "cell_type": "code",
   "execution_count": 98,
   "metadata": {},
   "outputs": [],
   "source": [
    "VA_accidents['accidentPlaceOccurrence'] = 0\n",
    "for index,row in VA_accidents.iterrows():\n",
    "    if(row['Traffic_Signal']):\n",
    "        VA_accidents.at[index,'accidentPlaceOccurrence'] += 1\n",
    "    if(row['Amenity']):\n",
    "        VA_accidents.at[index,'accidentPlaceOccurrence'] += 1\n",
    "    if(row['Junction']):\n",
    "        VA_accidents.at[index,'accidentPlaceOccurrence'] += 1\n",
    "    if(row['Bump']):\n",
    "        VA_accidents.at[index,'accidentPlaceOccurrence'] += 1\n",
    "    if(row['Crossing']):\n",
    "        VA_accidents.at[index,'accidentPlaceOccurrence'] += 1\n",
    "    if(row['Give_Way']):\n",
    "        VA_accidents.at[index,'accidentPlaceOccurrence'] += 1\n",
    "    if(row['No_Exit']):\n",
    "        VA_accidents.at[index,'accidentPlaceOccurrence'] += 1\n",
    "    if(row['Railway']):\n",
    "        VA_accidents.at[index,'accidentPlaceOccurrence'] += 1\n",
    "    if(row['Roundabout']):\n",
    "        VA_accidents.at[index,'accidentPlaceOccurrence'] += 1\n",
    "    if(row['Station']):\n",
    "        VA_accidents.at[index,'accidentPlaceOccurrence'] += 1\n",
    "    if(row['Traffic_Calming']):\n",
    "        VA_accidents.at[index,'accidentPlaceOccurrence'] += 1\n",
    "    if(row['Turning_Loop']):\n",
    "        VA_accidents.at[index,'accidentPlaceOccurrence'] += 1\n",
    "    \n",
    "    "
   ]
  },
  {
   "cell_type": "code",
   "execution_count": 99,
   "metadata": {},
   "outputs": [],
   "source": [
    "# Finall Pre-processed Dataset\n",
    "VA_accidents.to_csv('VA_accidents_final.csv',index = False)"
   ]
  },
  {
   "cell_type": "code",
   "execution_count": null,
   "metadata": {},
   "outputs": [],
   "source": []
  },
  {
   "cell_type": "code",
   "execution_count": null,
   "metadata": {},
   "outputs": [],
   "source": []
  }
 ],
 "metadata": {
  "kernelspec": {
   "display_name": "Python 3",
   "language": "python",
   "name": "python3"
  },
  "language_info": {
   "codemirror_mode": {
    "name": "ipython",
    "version": 3
   },
   "file_extension": ".py",
   "mimetype": "text/x-python",
   "name": "python",
   "nbconvert_exporter": "python",
   "pygments_lexer": "ipython3",
   "version": "3.7.3"
  }
 },
 "nbformat": 4,
 "nbformat_minor": 2
}
